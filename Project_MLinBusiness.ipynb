{
 "cells": [
  {
   "cell_type": "markdown",
   "metadata": {},
   "source": [
    "<h1>Выбор локации для скважины<a class=\"tocSkip\"></h1>\n",
    "   \n",
    "<h2>Краткое описание<a class=\"tocSkip\"></h2>\n",
    "\n",
    "Для добывающей компании «ГлавРосГосНефть» необходимо решить, где бурить новую скважину.\n",
    "\n",
    "Предоставлены пробы нефти в трёх регионах: в каждом 10 000 месторождений, где измерили качество нефти и объём её запасов. \n",
    "    \n",
    "<h2>Цель проекта<a class=\"tocSkip\"></h2>\n",
    "    \n",
    "Построить модель машинного обучения, которая поможет определить регион, где добыча принесёт наибольшую прибыль.\n",
    "Проанализировать возможную прибыль и риски техникой *Bootstrap.*\n",
    "    \n",
    "Шаги для выбора локации:\n",
    "\n",
    "- В избранном регионе ищут месторождения, для каждого определяют значения признаков;\n",
    "- Строят модель и оценивают объём запасов;\n",
    "- Выбирают месторождения с самым высокими оценками значений. Количество месторождений зависит от бюджета компании и стоимости разработки одной скважины;\n",
    "- Прибыль равна суммарной прибыли отобранных месторождений.\n",
    "    \n",
    "<h2>Описание данных<a class=\"tocSkip\"></h2> \n",
    "  \n",
    "Три датасета с данными геологоразведки трёх регионов:\n",
    "    \n",
    "- `geo_data_0.csv` \n",
    "- `geo_data_1.csv` \n",
    "- `geo_data_2.csv` \n",
    "    \n",
    "Данные:   \n",
    "    \n",
    "- `id` — уникальный идентификатор скважины;\n",
    "- `f0, f1, f2` — три признака точек (неважно, что они означают, но сами признаки значимы);\n",
    "- `product` — объём запасов в скважине (тыс. баррелей). \n"
   ]
  },
  {
   "cell_type": "code",
   "execution_count": 1,
   "metadata": {},
   "outputs": [],
   "source": [
    "!pip install matplotlib==3.5.1 -q"
   ]
  },
  {
   "cell_type": "code",
   "execution_count": 2,
   "metadata": {},
   "outputs": [],
   "source": [
    "!pip install --upgrade -q scikit-learn"
   ]
  },
  {
   "cell_type": "code",
   "execution_count": 3,
   "metadata": {},
   "outputs": [],
   "source": [
    "#импортируем используемые библиотеки\n",
    "import pandas as pd\n",
    "import numpy as np\n",
    "import matplotlib.pyplot as plt\n",
    "import seaborn as sns\n",
    "from plotly.subplots import make_subplots\n",
    "\n",
    "import sklearn\n",
    "\n",
    "# для разделения выборки\n",
    "from sklearn.model_selection import train_test_split\n",
    "\n",
    "# метрики\n",
    "from sklearn.metrics import mean_squared_error\n",
    "\n",
    "# импорт модели\n",
    "from sklearn.linear_model import LinearRegression\n",
    "\n",
    "import warnings\n",
    "warnings.filterwarnings('ignore')"
   ]
  },
  {
   "cell_type": "code",
   "execution_count": 4,
   "metadata": {},
   "outputs": [],
   "source": [
    "#Константы\n",
    "RANDOM_STATE = 42\n",
    "TEST_SIZE = 0.25"
   ]
  },
  {
   "cell_type": "markdown",
   "metadata": {},
   "source": [
    "<h2><b>Оглавление</b><a class=\"tocSkip\"></h2>\n",
    "\n",
    "<a href='#Step0'><b>Функции, используемые в проекте</b></a>   \n",
    "    \n",
    "<a href='#Step1'><b>1. Загрузка и подготовка данных</b></a>\n",
    "    \n",
    "<a href='#Step2'><b>2. Обучение и проверка модели</b></a>\n",
    "- <a href='#Step2.1'><b>2.1 Модель машинного обучения для первого региона</b></a>\n",
    "- <a href='#Step2.2'><b>2.2 Модель машинного обучения для второго региона</b></a>\n",
    "- <a href='#Step2.3'><b>2.3 Модель машинного обучения для третьего региона</b></a>\n",
    "- <a href='#Step2.4'><b>2.4 Вывод по разделу</b></a>\n",
    "    \n",
    "<a href='#Step3'><b>3. Подготовьтесь к расчёту прибыли</b></a>\n",
    "- <a href='#Step3.1'><b>3.1 Расчеты</b></a>\n",
    "- <a href='#Step3.2'><b>3.2 Вывод по разделу</b></a>\n",
    "    \n",
    "<a href='#Step4'><b>4. Расчет прибыли и рисков</b></a>\n",
    "- <a href='#Step4.1'><b>4.1 Функция для расчёта прибыли по выбранным скважинам и предсказаниям модели</b></a>    \n",
    "- <a href='#Step4.2'><b>4.2 Риски и прибыль для каждого региона</b></a>\n",
    "- <a href='#Step4.3'><b>4.3 Вывод по разделу</b></a> \n",
    "   \n",
    "<a href='#StepFinal'><b>Итоговый вывод</b></a> "
   ]
  },
  {
   "cell_type": "markdown",
   "metadata": {},
   "source": [
    "<a id='Step0'></a>\n",
    "<h3><b> Функции, используемые в проекте<a class=\"tocSkip\"></h3>"
   ]
  },
  {
   "cell_type": "code",
   "execution_count": 5,
   "metadata": {},
   "outputs": [],
   "source": [
    "#Функция для отображения основной информации по датафрейму\n",
    "\n",
    "def check_df (dataframes):\n",
    "    for df in dataframes:\n",
    "        df_name = [name for name, obj in globals().items() if obj is df][0]\n",
    "        print(f'Общая информация по датафрейму {df_name}:')\n",
    "        # общая информация\n",
    "        df.info()\n",
    "        # описательная статистика\n",
    "        display(df.describe())\n",
    "        # первые 5 строк\n",
    "        display(df.head())\n",
    "        print()"
   ]
  },
  {
   "cell_type": "code",
   "execution_count": 6,
   "metadata": {},
   "outputs": [],
   "source": [
    "#Функция проверки на пропущенные значения и явные дубликаты\n",
    "\n",
    "def check_isna_dupl (dataframes):\n",
    "    for df in dataframes:\n",
    "        df_name = [name for name, obj in globals().items() if obj is df][0]\n",
    "        print(f'В датафрейме {df_name}:')\n",
    "        print(f'Количество пропущенных значений:\\n{df.isna().sum()} \\\n",
    "        \\nКоличество явных дубликатов: {df.duplicated().sum()}')\n",
    "        print()"
   ]
  },
  {
   "cell_type": "code",
   "execution_count": 7,
   "metadata": {},
   "outputs": [],
   "source": [
    "#Функция построения графика гистограмм распределения\n",
    "\n",
    "def hist_plot (dataframes):  \n",
    "    for df in dataframes:\n",
    "        # Создание графика с 4 подграфиками в два столбца\n",
    "        fig, axes = plt.subplots(2, 2, figsize=(12, 15))\n",
    "        # Преобразование 2D массива подграфиков в 1D для удобного индексирования\n",
    "        axes = axes.ravel()\n",
    "        df_name = [name for name, obj in globals().items() if obj is df][0]\n",
    "        for i, column in enumerate(df.columns):\n",
    "            sns.histplot(data=df, bins=20, \n",
    "                         x=column, legend=True, ax=axes[i], \n",
    "                         color='skyblue')\n",
    "            axes[i].set_title(f'Распределение {column} в {df_name}')\n",
    "    \n",
    "            # Добавление медианы и среднего значения\n",
    "            median_value = df[column].median()\n",
    "            mean_value = df[column].mean()\n",
    "            axes[i].axvline(median_value, color='r', linestyle='--', label=f'Median: {median_value:.2f}')\n",
    "            axes[i].axvline(mean_value, color='g', linestyle='-', label=f'Mean: {mean_value:.2f}')\n",
    "            axes[i].legend()\n",
    "            axes[0].legend(loc='upper right')\n",
    "\n",
    "            # Показать графики\n",
    "        plt.tight_layout()\n",
    "        plt.show();"
   ]
  },
  {
   "cell_type": "code",
   "execution_count": 8,
   "metadata": {},
   "outputs": [],
   "source": [
    "#Функция построения графика гистограмм распределения\n",
    "\n",
    "def hist_plot (dataframes):  \n",
    "    for df in dataframes:\n",
    "        # Создание графика с 4 подграфиками в два столбца\n",
    "        fig, axes = plt.subplots(2, 2, figsize=(12, 15))\n",
    "        # Преобразование 2D массива подграфиков в 1D для удобного индексирования\n",
    "        axes = axes.ravel()\n",
    "        df_name = [name for name, obj in globals().items() if obj is df][0]\n",
    "        for i, column in enumerate(df.columns):\n",
    "            sns.histplot(data=df, bins=20, \n",
    "                         x=column, legend=True, ax=axes[i], \n",
    "                         color='skyblue')\n",
    "            axes[i].set_title(f'Распределение {column} в {df_name}')\n",
    "    \n",
    "            # Добавление медианы и среднего значения\n",
    "            median_value = df[column].median()\n",
    "            mean_value = df[column].mean()\n",
    "            axes[i].axvline(median_value, color='r', linestyle='--', label=f'Median: {median_value:.2f}')\n",
    "            axes[i].axvline(mean_value, color='g', linestyle='-', label=f'Mean: {mean_value:.2f}')\n",
    "            axes[i].legend()\n",
    "            axes[0].legend(loc='upper right')\n",
    "\n",
    "            # Показать графики\n",
    "        plt.tight_layout()\n",
    "        plt.show();"
   ]
  },
  {
   "cell_type": "markdown",
   "metadata": {},
   "source": [
    "<a id='Step1'></a>\n",
    "## Загрузка и подготовка данных"
   ]
  },
  {
   "cell_type": "code",
   "execution_count": 9,
   "metadata": {},
   "outputs": [],
   "source": [
    "geo_data_0 = pd.read_csv('/datasets/geo_data_0.csv')\n",
    "geo_data_1 = pd.read_csv('/datasets/geo_data_1.csv')\n",
    "geo_data_2 = pd.read_csv('/datasets/geo_data_2.csv')"
   ]
  },
  {
   "cell_type": "code",
   "execution_count": 10,
   "metadata": {},
   "outputs": [
    {
     "name": "stdout",
     "output_type": "stream",
     "text": [
      "Общая информация по датафрейму geo_data_0:\n",
      "<class 'pandas.core.frame.DataFrame'>\n",
      "RangeIndex: 100000 entries, 0 to 99999\n",
      "Data columns (total 5 columns):\n",
      " #   Column   Non-Null Count   Dtype  \n",
      "---  ------   --------------   -----  \n",
      " 0   id       100000 non-null  object \n",
      " 1   f0       100000 non-null  float64\n",
      " 2   f1       100000 non-null  float64\n",
      " 3   f2       100000 non-null  float64\n",
      " 4   product  100000 non-null  float64\n",
      "dtypes: float64(4), object(1)\n",
      "memory usage: 3.8+ MB\n"
     ]
    },
    {
     "data": {
      "text/html": [
       "<div>\n",
       "<style scoped>\n",
       "    .dataframe tbody tr th:only-of-type {\n",
       "        vertical-align: middle;\n",
       "    }\n",
       "\n",
       "    .dataframe tbody tr th {\n",
       "        vertical-align: top;\n",
       "    }\n",
       "\n",
       "    .dataframe thead th {\n",
       "        text-align: right;\n",
       "    }\n",
       "</style>\n",
       "<table border=\"1\" class=\"dataframe\">\n",
       "  <thead>\n",
       "    <tr style=\"text-align: right;\">\n",
       "      <th></th>\n",
       "      <th>f0</th>\n",
       "      <th>f1</th>\n",
       "      <th>f2</th>\n",
       "      <th>product</th>\n",
       "    </tr>\n",
       "  </thead>\n",
       "  <tbody>\n",
       "    <tr>\n",
       "      <th>count</th>\n",
       "      <td>100000.000000</td>\n",
       "      <td>100000.000000</td>\n",
       "      <td>100000.000000</td>\n",
       "      <td>100000.000000</td>\n",
       "    </tr>\n",
       "    <tr>\n",
       "      <th>mean</th>\n",
       "      <td>0.500419</td>\n",
       "      <td>0.250143</td>\n",
       "      <td>2.502647</td>\n",
       "      <td>92.500000</td>\n",
       "    </tr>\n",
       "    <tr>\n",
       "      <th>std</th>\n",
       "      <td>0.871832</td>\n",
       "      <td>0.504433</td>\n",
       "      <td>3.248248</td>\n",
       "      <td>44.288691</td>\n",
       "    </tr>\n",
       "    <tr>\n",
       "      <th>min</th>\n",
       "      <td>-1.408605</td>\n",
       "      <td>-0.848218</td>\n",
       "      <td>-12.088328</td>\n",
       "      <td>0.000000</td>\n",
       "    </tr>\n",
       "    <tr>\n",
       "      <th>25%</th>\n",
       "      <td>-0.072580</td>\n",
       "      <td>-0.200881</td>\n",
       "      <td>0.287748</td>\n",
       "      <td>56.497507</td>\n",
       "    </tr>\n",
       "    <tr>\n",
       "      <th>50%</th>\n",
       "      <td>0.502360</td>\n",
       "      <td>0.250252</td>\n",
       "      <td>2.515969</td>\n",
       "      <td>91.849972</td>\n",
       "    </tr>\n",
       "    <tr>\n",
       "      <th>75%</th>\n",
       "      <td>1.073581</td>\n",
       "      <td>0.700646</td>\n",
       "      <td>4.715088</td>\n",
       "      <td>128.564089</td>\n",
       "    </tr>\n",
       "    <tr>\n",
       "      <th>max</th>\n",
       "      <td>2.362331</td>\n",
       "      <td>1.343769</td>\n",
       "      <td>16.003790</td>\n",
       "      <td>185.364347</td>\n",
       "    </tr>\n",
       "  </tbody>\n",
       "</table>\n",
       "</div>"
      ],
      "text/plain": [
       "                  f0             f1             f2        product\n",
       "count  100000.000000  100000.000000  100000.000000  100000.000000\n",
       "mean        0.500419       0.250143       2.502647      92.500000\n",
       "std         0.871832       0.504433       3.248248      44.288691\n",
       "min        -1.408605      -0.848218     -12.088328       0.000000\n",
       "25%        -0.072580      -0.200881       0.287748      56.497507\n",
       "50%         0.502360       0.250252       2.515969      91.849972\n",
       "75%         1.073581       0.700646       4.715088     128.564089\n",
       "max         2.362331       1.343769      16.003790     185.364347"
      ]
     },
     "metadata": {},
     "output_type": "display_data"
    },
    {
     "data": {
      "text/html": [
       "<div>\n",
       "<style scoped>\n",
       "    .dataframe tbody tr th:only-of-type {\n",
       "        vertical-align: middle;\n",
       "    }\n",
       "\n",
       "    .dataframe tbody tr th {\n",
       "        vertical-align: top;\n",
       "    }\n",
       "\n",
       "    .dataframe thead th {\n",
       "        text-align: right;\n",
       "    }\n",
       "</style>\n",
       "<table border=\"1\" class=\"dataframe\">\n",
       "  <thead>\n",
       "    <tr style=\"text-align: right;\">\n",
       "      <th></th>\n",
       "      <th>id</th>\n",
       "      <th>f0</th>\n",
       "      <th>f1</th>\n",
       "      <th>f2</th>\n",
       "      <th>product</th>\n",
       "    </tr>\n",
       "  </thead>\n",
       "  <tbody>\n",
       "    <tr>\n",
       "      <th>0</th>\n",
       "      <td>txEyH</td>\n",
       "      <td>0.705745</td>\n",
       "      <td>-0.497823</td>\n",
       "      <td>1.221170</td>\n",
       "      <td>105.280062</td>\n",
       "    </tr>\n",
       "    <tr>\n",
       "      <th>1</th>\n",
       "      <td>2acmU</td>\n",
       "      <td>1.334711</td>\n",
       "      <td>-0.340164</td>\n",
       "      <td>4.365080</td>\n",
       "      <td>73.037750</td>\n",
       "    </tr>\n",
       "    <tr>\n",
       "      <th>2</th>\n",
       "      <td>409Wp</td>\n",
       "      <td>1.022732</td>\n",
       "      <td>0.151990</td>\n",
       "      <td>1.419926</td>\n",
       "      <td>85.265647</td>\n",
       "    </tr>\n",
       "    <tr>\n",
       "      <th>3</th>\n",
       "      <td>iJLyR</td>\n",
       "      <td>-0.032172</td>\n",
       "      <td>0.139033</td>\n",
       "      <td>2.978566</td>\n",
       "      <td>168.620776</td>\n",
       "    </tr>\n",
       "    <tr>\n",
       "      <th>4</th>\n",
       "      <td>Xdl7t</td>\n",
       "      <td>1.988431</td>\n",
       "      <td>0.155413</td>\n",
       "      <td>4.751769</td>\n",
       "      <td>154.036647</td>\n",
       "    </tr>\n",
       "  </tbody>\n",
       "</table>\n",
       "</div>"
      ],
      "text/plain": [
       "      id        f0        f1        f2     product\n",
       "0  txEyH  0.705745 -0.497823  1.221170  105.280062\n",
       "1  2acmU  1.334711 -0.340164  4.365080   73.037750\n",
       "2  409Wp  1.022732  0.151990  1.419926   85.265647\n",
       "3  iJLyR -0.032172  0.139033  2.978566  168.620776\n",
       "4  Xdl7t  1.988431  0.155413  4.751769  154.036647"
      ]
     },
     "metadata": {},
     "output_type": "display_data"
    },
    {
     "name": "stdout",
     "output_type": "stream",
     "text": [
      "\n",
      "Общая информация по датафрейму geo_data_1:\n",
      "<class 'pandas.core.frame.DataFrame'>\n",
      "RangeIndex: 100000 entries, 0 to 99999\n",
      "Data columns (total 5 columns):\n",
      " #   Column   Non-Null Count   Dtype  \n",
      "---  ------   --------------   -----  \n",
      " 0   id       100000 non-null  object \n",
      " 1   f0       100000 non-null  float64\n",
      " 2   f1       100000 non-null  float64\n",
      " 3   f2       100000 non-null  float64\n",
      " 4   product  100000 non-null  float64\n",
      "dtypes: float64(4), object(1)\n",
      "memory usage: 3.8+ MB\n"
     ]
    },
    {
     "data": {
      "text/html": [
       "<div>\n",
       "<style scoped>\n",
       "    .dataframe tbody tr th:only-of-type {\n",
       "        vertical-align: middle;\n",
       "    }\n",
       "\n",
       "    .dataframe tbody tr th {\n",
       "        vertical-align: top;\n",
       "    }\n",
       "\n",
       "    .dataframe thead th {\n",
       "        text-align: right;\n",
       "    }\n",
       "</style>\n",
       "<table border=\"1\" class=\"dataframe\">\n",
       "  <thead>\n",
       "    <tr style=\"text-align: right;\">\n",
       "      <th></th>\n",
       "      <th>f0</th>\n",
       "      <th>f1</th>\n",
       "      <th>f2</th>\n",
       "      <th>product</th>\n",
       "    </tr>\n",
       "  </thead>\n",
       "  <tbody>\n",
       "    <tr>\n",
       "      <th>count</th>\n",
       "      <td>100000.000000</td>\n",
       "      <td>100000.000000</td>\n",
       "      <td>100000.000000</td>\n",
       "      <td>100000.000000</td>\n",
       "    </tr>\n",
       "    <tr>\n",
       "      <th>mean</th>\n",
       "      <td>1.141296</td>\n",
       "      <td>-4.796579</td>\n",
       "      <td>2.494541</td>\n",
       "      <td>68.825000</td>\n",
       "    </tr>\n",
       "    <tr>\n",
       "      <th>std</th>\n",
       "      <td>8.965932</td>\n",
       "      <td>5.119872</td>\n",
       "      <td>1.703572</td>\n",
       "      <td>45.944423</td>\n",
       "    </tr>\n",
       "    <tr>\n",
       "      <th>min</th>\n",
       "      <td>-31.609576</td>\n",
       "      <td>-26.358598</td>\n",
       "      <td>-0.018144</td>\n",
       "      <td>0.000000</td>\n",
       "    </tr>\n",
       "    <tr>\n",
       "      <th>25%</th>\n",
       "      <td>-6.298551</td>\n",
       "      <td>-8.267985</td>\n",
       "      <td>1.000021</td>\n",
       "      <td>26.953261</td>\n",
       "    </tr>\n",
       "    <tr>\n",
       "      <th>50%</th>\n",
       "      <td>1.153055</td>\n",
       "      <td>-4.813172</td>\n",
       "      <td>2.011479</td>\n",
       "      <td>57.085625</td>\n",
       "    </tr>\n",
       "    <tr>\n",
       "      <th>75%</th>\n",
       "      <td>8.621015</td>\n",
       "      <td>-1.332816</td>\n",
       "      <td>3.999904</td>\n",
       "      <td>107.813044</td>\n",
       "    </tr>\n",
       "    <tr>\n",
       "      <th>max</th>\n",
       "      <td>29.421755</td>\n",
       "      <td>18.734063</td>\n",
       "      <td>5.019721</td>\n",
       "      <td>137.945408</td>\n",
       "    </tr>\n",
       "  </tbody>\n",
       "</table>\n",
       "</div>"
      ],
      "text/plain": [
       "                  f0             f1             f2        product\n",
       "count  100000.000000  100000.000000  100000.000000  100000.000000\n",
       "mean        1.141296      -4.796579       2.494541      68.825000\n",
       "std         8.965932       5.119872       1.703572      45.944423\n",
       "min       -31.609576     -26.358598      -0.018144       0.000000\n",
       "25%        -6.298551      -8.267985       1.000021      26.953261\n",
       "50%         1.153055      -4.813172       2.011479      57.085625\n",
       "75%         8.621015      -1.332816       3.999904     107.813044\n",
       "max        29.421755      18.734063       5.019721     137.945408"
      ]
     },
     "metadata": {},
     "output_type": "display_data"
    },
    {
     "data": {
      "text/html": [
       "<div>\n",
       "<style scoped>\n",
       "    .dataframe tbody tr th:only-of-type {\n",
       "        vertical-align: middle;\n",
       "    }\n",
       "\n",
       "    .dataframe tbody tr th {\n",
       "        vertical-align: top;\n",
       "    }\n",
       "\n",
       "    .dataframe thead th {\n",
       "        text-align: right;\n",
       "    }\n",
       "</style>\n",
       "<table border=\"1\" class=\"dataframe\">\n",
       "  <thead>\n",
       "    <tr style=\"text-align: right;\">\n",
       "      <th></th>\n",
       "      <th>id</th>\n",
       "      <th>f0</th>\n",
       "      <th>f1</th>\n",
       "      <th>f2</th>\n",
       "      <th>product</th>\n",
       "    </tr>\n",
       "  </thead>\n",
       "  <tbody>\n",
       "    <tr>\n",
       "      <th>0</th>\n",
       "      <td>kBEdx</td>\n",
       "      <td>-15.001348</td>\n",
       "      <td>-8.276000</td>\n",
       "      <td>-0.005876</td>\n",
       "      <td>3.179103</td>\n",
       "    </tr>\n",
       "    <tr>\n",
       "      <th>1</th>\n",
       "      <td>62mP7</td>\n",
       "      <td>14.272088</td>\n",
       "      <td>-3.475083</td>\n",
       "      <td>0.999183</td>\n",
       "      <td>26.953261</td>\n",
       "    </tr>\n",
       "    <tr>\n",
       "      <th>2</th>\n",
       "      <td>vyE1P</td>\n",
       "      <td>6.263187</td>\n",
       "      <td>-5.948386</td>\n",
       "      <td>5.001160</td>\n",
       "      <td>134.766305</td>\n",
       "    </tr>\n",
       "    <tr>\n",
       "      <th>3</th>\n",
       "      <td>KcrkZ</td>\n",
       "      <td>-13.081196</td>\n",
       "      <td>-11.506057</td>\n",
       "      <td>4.999415</td>\n",
       "      <td>137.945408</td>\n",
       "    </tr>\n",
       "    <tr>\n",
       "      <th>4</th>\n",
       "      <td>AHL4O</td>\n",
       "      <td>12.702195</td>\n",
       "      <td>-8.147433</td>\n",
       "      <td>5.004363</td>\n",
       "      <td>134.766305</td>\n",
       "    </tr>\n",
       "  </tbody>\n",
       "</table>\n",
       "</div>"
      ],
      "text/plain": [
       "      id         f0         f1        f2     product\n",
       "0  kBEdx -15.001348  -8.276000 -0.005876    3.179103\n",
       "1  62mP7  14.272088  -3.475083  0.999183   26.953261\n",
       "2  vyE1P   6.263187  -5.948386  5.001160  134.766305\n",
       "3  KcrkZ -13.081196 -11.506057  4.999415  137.945408\n",
       "4  AHL4O  12.702195  -8.147433  5.004363  134.766305"
      ]
     },
     "metadata": {},
     "output_type": "display_data"
    },
    {
     "name": "stdout",
     "output_type": "stream",
     "text": [
      "\n",
      "Общая информация по датафрейму geo_data_2:\n",
      "<class 'pandas.core.frame.DataFrame'>\n",
      "RangeIndex: 100000 entries, 0 to 99999\n",
      "Data columns (total 5 columns):\n",
      " #   Column   Non-Null Count   Dtype  \n",
      "---  ------   --------------   -----  \n",
      " 0   id       100000 non-null  object \n",
      " 1   f0       100000 non-null  float64\n",
      " 2   f1       100000 non-null  float64\n",
      " 3   f2       100000 non-null  float64\n",
      " 4   product  100000 non-null  float64\n",
      "dtypes: float64(4), object(1)\n",
      "memory usage: 3.8+ MB\n"
     ]
    },
    {
     "data": {
      "text/html": [
       "<div>\n",
       "<style scoped>\n",
       "    .dataframe tbody tr th:only-of-type {\n",
       "        vertical-align: middle;\n",
       "    }\n",
       "\n",
       "    .dataframe tbody tr th {\n",
       "        vertical-align: top;\n",
       "    }\n",
       "\n",
       "    .dataframe thead th {\n",
       "        text-align: right;\n",
       "    }\n",
       "</style>\n",
       "<table border=\"1\" class=\"dataframe\">\n",
       "  <thead>\n",
       "    <tr style=\"text-align: right;\">\n",
       "      <th></th>\n",
       "      <th>f0</th>\n",
       "      <th>f1</th>\n",
       "      <th>f2</th>\n",
       "      <th>product</th>\n",
       "    </tr>\n",
       "  </thead>\n",
       "  <tbody>\n",
       "    <tr>\n",
       "      <th>count</th>\n",
       "      <td>100000.000000</td>\n",
       "      <td>100000.000000</td>\n",
       "      <td>100000.000000</td>\n",
       "      <td>100000.000000</td>\n",
       "    </tr>\n",
       "    <tr>\n",
       "      <th>mean</th>\n",
       "      <td>0.002023</td>\n",
       "      <td>-0.002081</td>\n",
       "      <td>2.495128</td>\n",
       "      <td>95.000000</td>\n",
       "    </tr>\n",
       "    <tr>\n",
       "      <th>std</th>\n",
       "      <td>1.732045</td>\n",
       "      <td>1.730417</td>\n",
       "      <td>3.473445</td>\n",
       "      <td>44.749921</td>\n",
       "    </tr>\n",
       "    <tr>\n",
       "      <th>min</th>\n",
       "      <td>-8.760004</td>\n",
       "      <td>-7.084020</td>\n",
       "      <td>-11.970335</td>\n",
       "      <td>0.000000</td>\n",
       "    </tr>\n",
       "    <tr>\n",
       "      <th>25%</th>\n",
       "      <td>-1.162288</td>\n",
       "      <td>-1.174820</td>\n",
       "      <td>0.130359</td>\n",
       "      <td>59.450441</td>\n",
       "    </tr>\n",
       "    <tr>\n",
       "      <th>50%</th>\n",
       "      <td>0.009424</td>\n",
       "      <td>-0.009482</td>\n",
       "      <td>2.484236</td>\n",
       "      <td>94.925613</td>\n",
       "    </tr>\n",
       "    <tr>\n",
       "      <th>75%</th>\n",
       "      <td>1.158535</td>\n",
       "      <td>1.163678</td>\n",
       "      <td>4.858794</td>\n",
       "      <td>130.595027</td>\n",
       "    </tr>\n",
       "    <tr>\n",
       "      <th>max</th>\n",
       "      <td>7.238262</td>\n",
       "      <td>7.844801</td>\n",
       "      <td>16.739402</td>\n",
       "      <td>190.029838</td>\n",
       "    </tr>\n",
       "  </tbody>\n",
       "</table>\n",
       "</div>"
      ],
      "text/plain": [
       "                  f0             f1             f2        product\n",
       "count  100000.000000  100000.000000  100000.000000  100000.000000\n",
       "mean        0.002023      -0.002081       2.495128      95.000000\n",
       "std         1.732045       1.730417       3.473445      44.749921\n",
       "min        -8.760004      -7.084020     -11.970335       0.000000\n",
       "25%        -1.162288      -1.174820       0.130359      59.450441\n",
       "50%         0.009424      -0.009482       2.484236      94.925613\n",
       "75%         1.158535       1.163678       4.858794     130.595027\n",
       "max         7.238262       7.844801      16.739402     190.029838"
      ]
     },
     "metadata": {},
     "output_type": "display_data"
    },
    {
     "data": {
      "text/html": [
       "<div>\n",
       "<style scoped>\n",
       "    .dataframe tbody tr th:only-of-type {\n",
       "        vertical-align: middle;\n",
       "    }\n",
       "\n",
       "    .dataframe tbody tr th {\n",
       "        vertical-align: top;\n",
       "    }\n",
       "\n",
       "    .dataframe thead th {\n",
       "        text-align: right;\n",
       "    }\n",
       "</style>\n",
       "<table border=\"1\" class=\"dataframe\">\n",
       "  <thead>\n",
       "    <tr style=\"text-align: right;\">\n",
       "      <th></th>\n",
       "      <th>id</th>\n",
       "      <th>f0</th>\n",
       "      <th>f1</th>\n",
       "      <th>f2</th>\n",
       "      <th>product</th>\n",
       "    </tr>\n",
       "  </thead>\n",
       "  <tbody>\n",
       "    <tr>\n",
       "      <th>0</th>\n",
       "      <td>fwXo0</td>\n",
       "      <td>-1.146987</td>\n",
       "      <td>0.963328</td>\n",
       "      <td>-0.828965</td>\n",
       "      <td>27.758673</td>\n",
       "    </tr>\n",
       "    <tr>\n",
       "      <th>1</th>\n",
       "      <td>WJtFt</td>\n",
       "      <td>0.262778</td>\n",
       "      <td>0.269839</td>\n",
       "      <td>-2.530187</td>\n",
       "      <td>56.069697</td>\n",
       "    </tr>\n",
       "    <tr>\n",
       "      <th>2</th>\n",
       "      <td>ovLUW</td>\n",
       "      <td>0.194587</td>\n",
       "      <td>0.289035</td>\n",
       "      <td>-5.586433</td>\n",
       "      <td>62.871910</td>\n",
       "    </tr>\n",
       "    <tr>\n",
       "      <th>3</th>\n",
       "      <td>q6cA6</td>\n",
       "      <td>2.236060</td>\n",
       "      <td>-0.553760</td>\n",
       "      <td>0.930038</td>\n",
       "      <td>114.572842</td>\n",
       "    </tr>\n",
       "    <tr>\n",
       "      <th>4</th>\n",
       "      <td>WPMUX</td>\n",
       "      <td>-0.515993</td>\n",
       "      <td>1.716266</td>\n",
       "      <td>5.899011</td>\n",
       "      <td>149.600746</td>\n",
       "    </tr>\n",
       "  </tbody>\n",
       "</table>\n",
       "</div>"
      ],
      "text/plain": [
       "      id        f0        f1        f2     product\n",
       "0  fwXo0 -1.146987  0.963328 -0.828965   27.758673\n",
       "1  WJtFt  0.262778  0.269839 -2.530187   56.069697\n",
       "2  ovLUW  0.194587  0.289035 -5.586433   62.871910\n",
       "3  q6cA6  2.236060 -0.553760  0.930038  114.572842\n",
       "4  WPMUX -0.515993  1.716266  5.899011  149.600746"
      ]
     },
     "metadata": {},
     "output_type": "display_data"
    },
    {
     "name": "stdout",
     "output_type": "stream",
     "text": [
      "\n"
     ]
    }
   ],
   "source": [
    "check_df([geo_data_0, geo_data_1, geo_data_2])"
   ]
  },
  {
   "cell_type": "code",
   "execution_count": 11,
   "metadata": {},
   "outputs": [
    {
     "name": "stdout",
     "output_type": "stream",
     "text": [
      "В датафрейме geo_data_0:\n",
      "Количество пропущенных значений:\n",
      "id         0\n",
      "f0         0\n",
      "f1         0\n",
      "f2         0\n",
      "product    0\n",
      "dtype: int64         \n",
      "Количество явных дубликатов: 0\n",
      "\n",
      "В датафрейме geo_data_1:\n",
      "Количество пропущенных значений:\n",
      "id         0\n",
      "f0         0\n",
      "f1         0\n",
      "f2         0\n",
      "product    0\n",
      "dtype: int64         \n",
      "Количество явных дубликатов: 0\n",
      "\n",
      "В датафрейме geo_data_2:\n",
      "Количество пропущенных значений:\n",
      "id         0\n",
      "f0         0\n",
      "f1         0\n",
      "f2         0\n",
      "product    0\n",
      "dtype: int64         \n",
      "Количество явных дубликатов: 0\n",
      "\n"
     ]
    }
   ],
   "source": [
    "check_isna_dupl([geo_data_0, geo_data_1, geo_data_2])"
   ]
  },
  {
   "cell_type": "markdown",
   "metadata": {},
   "source": [
    "Рассмотрим распределение признаков в трех датафреймах."
   ]
  },
  {
   "cell_type": "code",
   "execution_count": 12,
   "metadata": {},
   "outputs": [],
   "source": [
    "geo_data_0 = geo_data_0.drop(columns=['id'])\n",
    "geo_data_1 = geo_data_1.drop(columns=['id'])\n",
    "geo_data_2 = geo_data_2.drop(columns=['id'])"
   ]
  },
  {
   "cell_type": "code",
   "execution_count": 13,
   "metadata": {},
   "outputs": [
    {
     "data": {
      "image/png": "[encoded data removed]",
      "text/plain": [
       "<Figure size 864x1080 with 4 Axes>"
      ]
     },
     "metadata": {
      "needs_background": "light"
     },
     "output_type": "display_data"
    },
    {
     "data": {
      "image/png": "[encoded data removed]",
      "text/plain": [
       "<Figure size 864x1080 with 4 Axes>"
      ]
     },
     "metadata": {
      "needs_background": "light"
     },
     "output_type": "display_data"
    },
    {
     "data": {
      "image/png": "[encoded data removed]",
      "text/plain": [
       "<Figure size 864x1080 with 4 Axes>"
      ]
     },
     "metadata": {
      "needs_background": "light"
     },
     "output_type": "display_data"
    }
   ],
   "source": [
    "hist_plot([geo_data_0, geo_data_1, geo_data_2])"
   ]
  },
  {
   "cell_type": "markdown",
   "metadata": {},
   "source": [
    "**Итоги по этапу 1**\n",
    "\n",
    "- Выгрузили 3 датафрейма в переменные `geo_data_0, geo_data_1, geo_data_2`\n",
    "- Вывели информацию по датафреймам:\n",
    "    1. Пропущенных значений нет\n",
    "    2. Явных дубликатов нет\n",
    "    3. Данные имеют правильные типы\n",
    "    \n",
    "- Посмотрели на распределение целевого признака. В двух регионах целевой признак (запасы нефти) имеет нормальное распределение.\n",
    "- **Убрали колонки `id` из всех датафреймов, так как для модели это незначимый признак.**\n",
    "- Данные готовы к работе, переидем к следующему этапу"
   ]
  },
  {
   "cell_type": "markdown",
   "metadata": {},
   "source": [
    "1. В первом регионе стремятся к нормальному распределению, но существуют пики слева и справа от медианы.\n",
    "2. Во втором регионе отсутствует нормальное распределение входных признаков.\n",
    "3. В третьем регионе входные признаки распределены нормально.\n",
    "        \n",
    "Дополнительно посмотрим корреляцию входных признаков с целевым"
   ]
  },
  {
   "cell_type": "code",
   "execution_count": 14,
   "metadata": {},
   "outputs": [],
   "source": [
    "def corr_hitmap(dataframes):\n",
    "    for df in dataframes:\n",
    "        df_name = [name for name, obj in globals().items() if obj is df][0]\n",
    "        corr_matrix = df.corr()\n",
    "        plt.figure(figsize = (15, 10))\n",
    "        sns.heatmap(corr_matrix, vmin=-1, vmax=1,\n",
    "            cmap='GnBu', annot=True,\n",
    "            linewidths=1, linecolor='black')\n",
    "        plt.title(f'Матрица корреляции для {df_name}')\n",
    "        plt.xticks(rotation=45) \n",
    "        plt.show()"
   ]
  },
  {
   "cell_type": "code",
   "execution_count": 15,
   "metadata": {},
   "outputs": [
    {
     "data": {
      "image/png": "[encoded data removed]",
      "text/plain": [
       "<Figure size 1080x720 with 2 Axes>"
      ]
     },
     "metadata": {
      "needs_background": "light"
     },
     "output_type": "display_data"
    },
    {
     "data": {
      "image/png": "[encoded data removed]",
      "text/plain": [
       "<Figure size 1080x720 with 2 Axes>"
      ]
     },
     "metadata": {
      "needs_background": "light"
     },
     "output_type": "display_data"
    },
    {
     "data": {
      "image/png": "[encoded data removed]",
      "text/plain": [
       "<Figure size 1080x720 with 2 Axes>"
      ]
     },
     "metadata": {
      "needs_background": "light"
     },
     "output_type": "display_data"
    }
   ],
   "source": [
    "corr_hitmap([geo_data_0, geo_data_1, geo_data_2])"
   ]
  },
  {
   "cell_type": "markdown",
   "metadata": {},
   "source": [
    "1. Во втором регионе очень высокая сила связи по шкале Чеддока у входного признака `f2` с целевым `product`\n",
    "2. В первом и третьем регионе имеют слабую корреляцию входной признак `f2` с целевым.\n",
    "3. Остальные входные признаки имеют очень слабую связь - `0`"
   ]
  },
  {
   "cell_type": "markdown",
   "metadata": {},
   "source": [
    "<a id='Step2'></a>\n",
    "## Обучение и проверка модели"
   ]
  },
  {
   "cell_type": "markdown",
   "metadata": {},
   "source": [
    "Сделаем функцию, в которой:\n",
    "1. Разбьем данные на обучающую и валидационную выборки в соотношении 75:25\n",
    "2. Обучим модель и сделаем предсказания на валидационной выборке.\n",
    "3. Сохраним предсказания и правильные ответы на валидационной выборке.\n",
    "4. Напечатаем на экране средний запас предсказанного сырья и RMSE модели.\n",
    "\n",
    "Для обучения модели подходит только линейная регрессия (остальные — недостаточно предсказуемые)."
   ]
  },
  {
   "cell_type": "code",
   "execution_count": 16,
   "metadata": {},
   "outputs": [],
   "source": [
    "model = LinearRegression()\n",
    "\n",
    "def oil_predict(df, target_name):\n",
    "    X = df.drop([target_name] , axis=1)\n",
    "    y = df[target_name]\n",
    "    \n",
    "    X_train, X_valid, y_train, y_valid = train_test_split(\n",
    "    X, y, test_size=TEST_SIZE, random_state=RANDOM_STATE)\n",
    "    \n",
    "    model.fit(X_train, y_train)\n",
    "    y_predicted = model.predict(X_valid)\n",
    "    data = {'real_product' : y_valid,\n",
    "            'predicted_product' : y_predicted         \n",
    "    }\n",
    "    data_frame = pd.DataFrame(data, columns = ['real_product', 'predicted_product'])\n",
    "    rmse = mean_squared_error(y_valid, y_predicted)**0.5\n",
    "    mean = data_frame['predicted_product'].mean()\n",
    "    oil_sum = data_frame['predicted_product'].sum()\n",
    "    mean_real = data_frame['real_product'].mean()\n",
    "    return data_frame, rmse, mean, oil_sum, mean_real"
   ]
  },
  {
   "cell_type": "markdown",
   "metadata": {},
   "source": [
    "<a id='Step2.1'></a>\n",
    "### Модель машинного обучения для первого региона"
   ]
  },
  {
   "cell_type": "code",
   "execution_count": 17,
   "metadata": {},
   "outputs": [
    {
     "name": "stdout",
     "output_type": "stream",
     "text": [
      "Настоящие и предсказанные данные по местороджению geo_data_0\n",
      "        real_product  predicted_product\n",
      "75721    122.073350         101.901017\n",
      "80184     48.738540          78.217774\n",
      "19864    131.338088         115.266901\n",
      "76699     88.327757         105.618618\n",
      "92991     36.959266          97.980185 \n",
      "\n",
      "RMSE - 37.75660035026169 \n",
      "Средний запас сырья предсказанный - 92.39879990657768 \n",
      "Средний запас сырья реальный - 92.32595637084387 \n",
      "Суммарный запас сырья в регионе -  2309969.997664442 \n",
      "\n"
     ]
    }
   ],
   "source": [
    "data_frame_0, rmse_0, mean_0, oil_sum_0, mean_real_0 = oil_predict(geo_data_0, 'product')\n",
    "\n",
    "print('Настоящие и предсказанные данные по местороджению geo_data_0' '\\n',\n",
    "    data_frame_0.head(), '\\n'\n",
    "    '\\n'\n",
    "    'RMSE -', rmse_0, '\\n'\n",
    "    'Средний запас сырья предсказанный -', mean_0, '\\n'\n",
    "    'Средний запас сырья реальный -', mean_real_0, '\\n'\n",
    "    'Суммарный запас сырья в регионе - ', oil_sum_0, '\\n'\n",
    "     )"
   ]
  },
  {
   "cell_type": "markdown",
   "metadata": {},
   "source": [
    "<a id='Step2.2'></a>\n",
    "### Модель машинного обучения для второго региона"
   ]
  },
  {
   "cell_type": "code",
   "execution_count": 18,
   "metadata": {},
   "outputs": [
    {
     "name": "stdout",
     "output_type": "stream",
     "text": [
      "Настоящие и предсказанные данные по местороджению geo_data_1\n",
      "        real_product  predicted_product\n",
      "75721      0.000000           0.844738\n",
      "80184     53.906522          52.921612\n",
      "19864    134.766305         135.110385\n",
      "76699    107.813044         109.494863\n",
      "92991      0.000000          -0.047292 \n",
      "\n",
      "RMSE - 0.890280100102884 \n",
      "Средний запас сырья предсказанный - 68.71287803913762 \n",
      "Средний запас сырья реальный - 68.72538074722745 \n",
      "Суммарный запас сырья в регионе -  1717821.9509784407\n"
     ]
    }
   ],
   "source": [
    "data_frame_1, rmse_1, mean_1, oil_sum_1, mean_real_1 = oil_predict(geo_data_1, 'product')\n",
    "\n",
    "print('Настоящие и предсказанные данные по местороджению geo_data_1' '\\n',\n",
    "    data_frame_1.head(), '\\n'\n",
    "    '\\n'\n",
    "    'RMSE -', rmse_1, '\\n'\n",
    "    'Средний запас сырья предсказанный -', mean_1, '\\n'\n",
    "    'Средний запас сырья реальный -', mean_real_1, '\\n'\n",
    "    'Суммарный запас сырья в регионе - ', oil_sum_1\n",
    "     )"
   ]
  },
  {
   "cell_type": "markdown",
   "metadata": {},
   "source": [
    "<a id='Step2.3'></a>\n",
    "### Модель машинного обучения для третьего региона"
   ]
  },
  {
   "cell_type": "code",
   "execution_count": 19,
   "metadata": {},
   "outputs": [
    {
     "name": "stdout",
     "output_type": "stream",
     "text": [
      "Настоящие и предсказанные данные по местороджению geo_data_2\n",
      "        real_product  predicted_product\n",
      "75721    117.441301          98.301916\n",
      "80184     47.841249         101.592461\n",
      "19864     45.883483          52.449099\n",
      "76699    139.014608         109.922127\n",
      "92991     84.004276          72.411847 \n",
      "\n",
      "RMSE - 40.145872311342174 \n",
      "Средний запас сырья предсказанный - 94.77102387765939 \n",
      "Средний запас сырья реальный - 95.15099907171961 \n",
      "Суммарный запас сырья в регионе -  2369275.5969414846\n"
     ]
    }
   ],
   "source": [
    "data_frame_2, rmse_2, mean_2, oil_sum_2, mean_real_2 = oil_predict(geo_data_2, 'product')\n",
    "\n",
    "print('Настоящие и предсказанные данные по местороджению geo_data_2' '\\n',\n",
    "    data_frame_2.head(), '\\n'\n",
    "    '\\n'\n",
    "    'RMSE -', rmse_2, '\\n'\n",
    "    'Средний запас сырья предсказанный -', mean_2, '\\n'\n",
    "    'Средний запас сырья реальный -', mean_real_2, '\\n'\n",
    "    'Суммарный запас сырья в регионе - ', oil_sum_2\n",
    "     )"
   ]
  },
  {
   "cell_type": "markdown",
   "metadata": {},
   "source": [
    "<a id='Step2.4'></a>\n",
    "### Вывод по разделу"
   ]
  },
  {
   "cell_type": "markdown",
   "metadata": {},
   "source": [
    "- Применили модель линейной регрессии `LinearRegression()` для решения задачи\n",
    "- Для каждого региона посчитали предсказания и создали датафрейм с реальными и предсказанными значениями\n",
    "- Посчитали RMSE для каждого региона.\n",
    "\n",
    "1. Модель хорошо предсказала значения для второго региона. `RMSE` равен `0.89`. Хуже для первого и второго - `RMSE` равен `37.75` и `40.14` соответственно.\n",
    "2. Больше всего среднего запаса сырья в третьем регионе `94.77` тыс. баррелей, затем во втором и третьем."
   ]
  },
  {
   "cell_type": "markdown",
   "metadata": {},
   "source": [
    "## Подготовка к расчёту прибыли"
   ]
  },
  {
   "cell_type": "markdown",
   "metadata": {},
   "source": [
    "<a id='Step3.1'></a>\n",
    "### Расчеты"
   ]
  },
  {
   "cell_type": "markdown",
   "metadata": {},
   "source": [
    "Все ключевые значения для расчётов сохраним в отдельных переменных."
   ]
  },
  {
   "cell_type": "code",
   "execution_count": 20,
   "metadata": {},
   "outputs": [],
   "source": [
    "FULL_BUDGET = 1e+10 \n",
    "FULL_POINTS = 500\n",
    "BEST_POINTS = 200\n",
    "PRICE_PER_BARREL = 450000"
   ]
  },
  {
   "cell_type": "markdown",
   "metadata": {},
   "source": [
    "Рассчитаем достаточный объём сырья для безубыточной разработки новой скважины. "
   ]
  },
  {
   "cell_type": "code",
   "execution_count": 21,
   "metadata": {},
   "outputs": [
    {
     "name": "stdout",
     "output_type": "stream",
     "text": [
      "Средний бюджет на лучшую точку - 50000.0 тыс. руб.\n",
      "Средний объем сырья на точку - 111.11111111111111 тыс. барелей\n",
      "Средний объем сырья на регион - 22222.222222222223 тыс. барелей\n"
     ]
    }
   ],
   "source": [
    "#Посчитаем сколько бюджет в среднем на каждую скважину (200 лучших)\n",
    "profit_per_point_avg = FULL_BUDGET / (BEST_POINTS * 1000)\n",
    "#Расчет среднего количества баррелей сырья на каждую скважину исходя из бюджета 10 млрд\n",
    "barrels_per_point_avg = profit_per_point_avg  / (PRICE_PER_BARREL*0.001)\n",
    "#Средний необходимый объем сырья на целый регион\n",
    "amount_barrels_avg = FULL_BUDGET / PRICE_PER_BARREL\n",
    "\n",
    "print('Средний бюджет на лучшую точку -', profit_per_point_avg, 'тыс. руб.')\n",
    "print('Средний объем сырья на точку -',barrels_per_point_avg, 'тыс. барелей')\n",
    "print('Средний объем сырья на регион -',amount_barrels_avg, 'тыс. барелей')"
   ]
  },
  {
   "cell_type": "markdown",
   "metadata": {},
   "source": [
    "Сравним полученный объём сырья со средним запасом в каждом регионе. "
   ]
  },
  {
   "cell_type": "code",
   "execution_count": 22,
   "metadata": {},
   "outputs": [
    {
     "name": "stdout",
     "output_type": "stream",
     "text": [
      "Средний запас предсказанного сырья на точку в регионе 1 92.39879990657768 \n",
      "Средний запас предсказанного сырья на точку в регионе 2 68.71287803913762 \n",
      "Средний запас предсказанного сырья на точку в регионе 3 94.77102387765939\n",
      "\n",
      "Средний запас реального сырья на точку в регионе 1 92.32595637084387 \n",
      "Средний запас реального сырья на точку в регионе 2 68.72538074722745 \n",
      "Средний запас реального сырья на точку в регионе 3 95.15099907171961\n",
      "\n",
      "Рассчитанный объем сырья на точку (значение безубытка) - 111.11 тыс. барелей\n"
     ]
    }
   ],
   "source": [
    "print(\n",
    "     'Средний запас предсказанного сырья на точку в регионе 1', mean_0, '\\n'\n",
    "     'Средний запас предсказанного сырья на точку в регионе 2', mean_1, '\\n'\n",
    "     'Средний запас предсказанного сырья на точку в регионе 3', mean_2\n",
    "     )\n",
    "print()\n",
    "\n",
    "print(\n",
    "     'Средний запас реального сырья на точку в регионе 1', mean_real_0, '\\n'\n",
    "     'Средний запас реального сырья на точку в регионе 2', mean_real_1, '\\n'\n",
    "     'Средний запас реального сырья на точку в регионе 3', mean_real_2\n",
    "     )\n",
    "print()\n",
    "\n",
    "print('Рассчитанный объем сырья на точку (значение безубытка) -', round(barrels_per_point_avg,2), 'тыс. барелей')\n",
    "\n",
    "\n",
    "\n",
    "#print(\n",
    "#     'Суммарный запас предсказанного сырья в регионе 1', oil_sum_0, '\\n'\n",
    "#     'Суммарный запас предсказанного сырья в регионе 2', oil_sum_1, '\\n'\n",
    "#     'Суммарный запас предсказанного сырья в регионе 3', oil_sum_2\n",
    "#     )"
   ]
  },
  {
   "cell_type": "markdown",
   "metadata": {},
   "source": [
    "<a id='Step3.2'></a>\n",
    "### Вывод по разделу"
   ]
  },
  {
   "cell_type": "markdown",
   "metadata": {},
   "source": [
    "- Произвели подготовку к расчету\n",
    "- Ключевые значения указали в переменных `full_budget, full_points, best_points, price_per_barrel`\n",
    "- Средний бюджет на лучшую точку - `50000.0 тыс. руб.` \n",
    "- Средний объем сырья на точку - `111 тыс. барелей`\n",
    "- Средний объем сырья на регион - `22222 тыс. барелей`\n",
    "\n",
    "1. Второй регион имеет меньшие запасы сырья, чем рассчитанный средний запас сырья в регион исходя из бюджета 10 млрд руб.\n",
    "2. Для первого и третьего регионов - высокая вероятность окупить затраты.\n",
    "3. Средние запасы сырья на скважину в первом и третьем регионах также близки к рассчитанному среднему."
   ]
  },
  {
   "cell_type": "markdown",
   "metadata": {},
   "source": [
    "## Расчёт прибыли и рисков "
   ]
  },
  {
   "cell_type": "markdown",
   "metadata": {},
   "source": [
    "<a id='Step4.1'></a>\n",
    "### Функция для расчёта прибыли по выбранным скважинам и предсказаниям модели"
   ]
  },
  {
   "cell_type": "markdown",
   "metadata": {},
   "source": [
    "Напишем функцию для расчёта прибыли по выбранным скважинам и предсказаниям модели:\n",
    "1. Выберем скважины с максимальными значениями предсказаний. \n",
    "2. Просуммируем целевое значение объёма сырья, соответствующее этим предсказаниям.\n",
    "3. Рассчитаем прибыль для полученного объёма сырья."
   ]
  },
  {
   "cell_type": "code",
   "execution_count": 23,
   "metadata": {},
   "outputs": [],
   "source": [
    "def profit_from_points(target, preds, count):\n",
    "    sum_oil =  target[preds.sort_values(ascending=False).index][:count].sum()\n",
    "    return sum_oil * (PRICE_PER_BARREL/1000) - FULL_BUDGET/1000"
   ]
  },
  {
   "cell_type": "markdown",
   "metadata": {},
   "source": [
    "<a id='Step4.2'></a>\n",
    "### Риски и прибыль для каждого региона"
   ]
  },
  {
   "cell_type": "markdown",
   "metadata": {},
   "source": [
    "Посчитаем риски и прибыль для каждого региона:\n",
    "1. Применим технику Bootstrap с `1000` выборок, чтобы найти распределение прибыли.\n",
    "2. Найдем среднюю прибыль, `95%-й` доверительный интервал и риск убытков. Убыток — это отрицательная прибыль."
   ]
  },
  {
   "cell_type": "code",
   "execution_count": 28,
   "metadata": {},
   "outputs": [],
   "source": [
    "#Напишем функцию распределения прибыли, чтобы применить ее к датафреймам по трём регионам\n",
    "\n",
    "state_bootstrap = np.random.RandomState(341546)\n",
    "def profit_distribution(target, predicts):\n",
    "    values=[]\n",
    "#    loss = 0\n",
    "    for i in range(1000):\n",
    "        predicts_sample = predicts[target.sample(replace=True, random_state=state_bootstrap, n=FULL_POINTS).index]\n",
    "        profit = profit_from_points(target, predicts_sample, BEST_POINTS)\n",
    "#        if profit < 0:\n",
    "#            loss +=1\n",
    "        values.append(profit)\n",
    "    \n",
    "    # считаем доверительный интервал\n",
    "    values = pd.Series(values)\n",
    "    lower = values.quantile(0.025)\n",
    "    upper = values.quantile(0.975)\n",
    "    average = values.mean()\n",
    "    risk = (values < 0).mean()\n",
    "    #считаем риск убытков\n",
    "#    risk = loss / 1000\n",
    "    \n",
    "    print(f'95% доверительный интервал доходности находится в пределах от {lower} до {upper} тыс. руб')\n",
    "    print('Средний доход, тыс.руб     :', average)\n",
    "    print(f'Вероятность убытка: {risk:.2%} ')"
   ]
  },
  {
   "cell_type": "code",
   "execution_count": 29,
   "metadata": {},
   "outputs": [
    {
     "name": "stdout",
     "output_type": "stream",
     "text": [
      "Распределение прибыли для первого региона\n",
      "95% доверительный интервал доходности находится в пределах от -145066.80564226868 до 906601.7408508782 тыс. руб\n",
      "Средний доход, тыс.руб     : 400033.0590469803\n",
      "Вероятность убытка: 7.30% \n"
     ]
    }
   ],
   "source": [
    "print('Распределение прибыли для первого региона')\n",
    "profit_distribution(data_frame_0['real_product'], data_frame_0['predicted_product'])"
   ]
  },
  {
   "cell_type": "code",
   "execution_count": 30,
   "metadata": {},
   "outputs": [
    {
     "name": "stdout",
     "output_type": "stream",
     "text": [
      "Распределение прибыли для второго региона\n",
      "95% доверительный интервал доходности находится в пределах от 44632.395396231164 до 861521.4641012792 тыс. руб\n",
      "Средний доход, тыс.руб     : 439749.24710010266\n",
      "Вероятность убытка: 1.70% \n"
     ]
    }
   ],
   "source": [
    "print('Распределение прибыли для второго региона')\n",
    "profit_distribution(data_frame_1['real_product'], data_frame_1['predicted_product'])"
   ]
  },
  {
   "cell_type": "code",
   "execution_count": 31,
   "metadata": {},
   "outputs": [
    {
     "name": "stdout",
     "output_type": "stream",
     "text": [
      "Распределение прибыли для третьего региона\n",
      "95% доверительный интервал доходности находится в пределах от -149104.78724573477 до 955866.0710337913 тыс. руб\n",
      "Средний доход, тыс.руб     : 392595.1655586924\n",
      "Вероятность убытка: 8.00% \n"
     ]
    }
   ],
   "source": [
    "print('Распределение прибыли для третьего региона')\n",
    "profit_distribution(data_frame_2['real_product'], data_frame_2['predicted_product'])"
   ]
  },
  {
   "cell_type": "markdown",
   "metadata": {},
   "source": [
    "<a id='Step4.3'></a>\n",
    "### Вывод по разделу"
   ]
  },
  {
   "cell_type": "markdown",
   "metadata": {},
   "source": [
    "- Написали функцию для распределения прибыли, а также функцию с техникой Bootstrap для расчета среднего дохода, доверительного интервала и вероятности убытка для каждого региона\n",
    "- Расчет показал `Регион 2` как самый выгодный вариант по разработке месторождения:\n",
    "    1. `95% доверительный интервал` доходности находится в пределах от `44632 до 861521 тыс. руб`\n",
    "    2. Средний доход     : `439749 тыс. руб`\n",
    "    3. Вероятность убытка: `1.70%`\n",
    "- Регионы 1 и 3 имеют риск убытка выше `7.3%` и `8%` соответственно\n",
    "- Доверительный интервал для второго региона показывает, что даже при нижней границе доходность положительная."
   ]
  },
  {
   "cell_type": "markdown",
   "metadata": {},
   "source": [
    "<a id='StepFinal'></a>\n",
    "# Итоговый вывод"
   ]
  },
  {
   "cell_type": "markdown",
   "metadata": {},
   "source": [
    "В проекте для добывающей компании «ГлавРосГосНефть» решили, где бурить новую скважину:\n",
    "\n",
    "- Построили модель машинного обучения, которая помогла определить регион, где добыча принесёт наибольшую прибыль. \n",
    "- Проанализировали возможную прибыль и риски техникой Bootstrap.\n",
    "\n",
    "\n",
    "**Для инвестирования предлагается выбрать второй регион. В этом регионе ожидаемая доходность `439749 тыс. руб`, а верояность убытка `1.7%`. Среди регионов с вероятностью убытка, находящегося в пределах допустимого значения 2.5%, в данном регионе самая высокая ожидаемая прибыль.**"
   ]
  }
 ],
 "metadata": {
  "ExecuteTimeLog": [
   {
    "duration": 10581,
    "start_time": "2025-02-20T20:06:52.231Z"
   },
   {
    "duration": 102352,
    "start_time": "2025-02-20T20:07:02.814Z"
   },
   {
    "duration": 1821,
    "start_time": "2025-02-20T20:08:45.169Z"
   },
   {
    "duration": 0,
    "start_time": "2025-02-20T20:08:46.992Z"
   },
   {
    "duration": 8334,
    "start_time": "2025-02-25T19:41:27.046Z"
   },
   {
    "duration": 6777,
    "start_time": "2025-02-25T19:41:35.382Z"
   },
   {
    "duration": 2057,
    "start_time": "2025-02-25T19:41:42.163Z"
   },
   {
    "duration": 0,
    "start_time": "2025-02-25T19:41:44.222Z"
   },
   {
    "duration": 6,
    "start_time": "2025-02-25T19:42:04.604Z"
   },
   {
    "duration": 3,
    "start_time": "2025-02-25T19:42:07.066Z"
   },
   {
    "duration": 81,
    "start_time": "2025-02-25T19:42:07.513Z"
   },
   {
    "duration": 151,
    "start_time": "2025-02-25T19:43:52.984Z"
   },
   {
    "duration": 400,
    "start_time": "2025-02-25T19:44:07.361Z"
   },
   {
    "duration": 12,
    "start_time": "2025-02-25T19:44:12.380Z"
   },
   {
    "duration": 9,
    "start_time": "2025-02-25T19:44:18.104Z"
   },
   {
    "duration": 9,
    "start_time": "2025-02-25T19:44:25.262Z"
   },
   {
    "duration": 64,
    "start_time": "2025-02-25T19:44:42.438Z"
   },
   {
    "duration": 3,
    "start_time": "2025-02-25T19:44:56.435Z"
   },
   {
    "duration": 437,
    "start_time": "2025-02-25T19:45:01.359Z"
   },
   {
    "duration": 55,
    "start_time": "2025-02-25T19:45:17.398Z"
   },
   {
    "duration": 4,
    "start_time": "2025-02-25T19:46:16.257Z"
   },
   {
    "duration": 139,
    "start_time": "2025-02-25T19:46:34.396Z"
   },
   {
    "duration": 4,
    "start_time": "2025-02-25T20:10:24.573Z"
   },
   {
    "duration": 159,
    "start_time": "2025-02-25T20:10:26.942Z"
   },
   {
    "duration": 840,
    "start_time": "2025-02-25T20:17:33.374Z"
   },
   {
    "duration": 925,
    "start_time": "2025-02-25T20:18:14.426Z"
   },
   {
    "duration": 5,
    "start_time": "2025-02-25T20:21:34.201Z"
   },
   {
    "duration": 2707,
    "start_time": "2025-02-25T20:21:56.811Z"
   },
   {
    "duration": 5,
    "start_time": "2025-02-25T20:22:21.376Z"
   },
   {
    "duration": 3068,
    "start_time": "2025-02-25T20:22:25.923Z"
   },
   {
    "duration": 5,
    "start_time": "2025-02-25T20:22:55.920Z"
   },
   {
    "duration": 2785,
    "start_time": "2025-02-25T20:22:59.731Z"
   },
   {
    "duration": 5,
    "start_time": "2025-02-25T20:30:44.012Z"
   },
   {
    "duration": 2889,
    "start_time": "2025-02-25T20:30:47.543Z"
   },
   {
    "duration": 12,
    "start_time": "2025-02-25T20:32:50.338Z"
   },
   {
    "duration": 14,
    "start_time": "2025-02-25T20:33:09.027Z"
   },
   {
    "duration": 4,
    "start_time": "2025-02-25T20:41:51.184Z"
   },
   {
    "duration": 12,
    "start_time": "2025-02-25T20:42:05.130Z"
   },
   {
    "duration": 24,
    "start_time": "2025-02-25T20:42:10.392Z"
   },
   {
    "duration": 14,
    "start_time": "2025-02-25T20:43:51.291Z"
   },
   {
    "duration": 2395,
    "start_time": "2025-02-26T21:37:14.013Z"
   },
   {
    "duration": 2855,
    "start_time": "2025-02-26T21:37:16.411Z"
   },
   {
    "duration": 1643,
    "start_time": "2025-02-26T21:37:19.268Z"
   },
   {
    "duration": 2,
    "start_time": "2025-02-26T21:37:20.913Z"
   },
   {
    "duration": 15,
    "start_time": "2025-02-26T21:37:20.917Z"
   },
   {
    "duration": 8,
    "start_time": "2025-02-26T21:37:20.933Z"
   },
   {
    "duration": 16,
    "start_time": "2025-02-26T21:37:20.943Z"
   },
   {
    "duration": 415,
    "start_time": "2025-02-26T21:37:20.960Z"
   },
   {
    "duration": 166,
    "start_time": "2025-02-26T21:37:21.377Z"
   },
   {
    "duration": 169,
    "start_time": "2025-02-26T21:37:21.561Z"
   },
   {
    "duration": 2851,
    "start_time": "2025-02-26T21:37:21.732Z"
   },
   {
    "duration": 18,
    "start_time": "2025-02-26T21:37:24.585Z"
   },
   {
    "duration": 33,
    "start_time": "2025-02-26T21:37:24.604Z"
   },
   {
    "duration": 35,
    "start_time": "2025-02-26T21:37:24.639Z"
   },
   {
    "duration": 41,
    "start_time": "2025-02-26T21:37:24.676Z"
   },
   {
    "duration": 4,
    "start_time": "2025-02-27T14:36:42.969Z"
   },
   {
    "duration": 5,
    "start_time": "2025-02-27T14:36:43.249Z"
   },
   {
    "duration": 20,
    "start_time": "2025-02-27T14:36:47.125Z"
   },
   {
    "duration": 5,
    "start_time": "2025-02-27T14:37:54.951Z"
   },
   {
    "duration": 137,
    "start_time": "2025-02-27T14:40:32.616Z"
   },
   {
    "duration": 5,
    "start_time": "2025-02-27T14:40:46.081Z"
   },
   {
    "duration": 199,
    "start_time": "2025-02-27T14:40:48.764Z"
   },
   {
    "duration": 4,
    "start_time": "2025-02-27T14:42:42.966Z"
   },
   {
    "duration": 212,
    "start_time": "2025-02-27T14:42:48.751Z"
   },
   {
    "duration": 83,
    "start_time": "2025-02-27T14:43:07.390Z"
   },
   {
    "duration": 85,
    "start_time": "2025-02-27T14:43:12.077Z"
   },
   {
    "duration": 119,
    "start_time": "2025-02-27T14:43:16.544Z"
   },
   {
    "duration": 36,
    "start_time": "2025-02-27T14:43:48.926Z"
   },
   {
    "duration": 58,
    "start_time": "2025-02-27T14:43:53.305Z"
   },
   {
    "duration": 107,
    "start_time": "2025-02-27T14:44:05.060Z"
   },
   {
    "duration": 63,
    "start_time": "2025-02-27T14:44:08.200Z"
   },
   {
    "duration": 109,
    "start_time": "2025-02-27T14:44:16.961Z"
   },
   {
    "duration": 76,
    "start_time": "2025-02-27T14:45:04.183Z"
   },
   {
    "duration": 42,
    "start_time": "2025-02-27T14:45:09.323Z"
   },
   {
    "duration": 57,
    "start_time": "2025-02-27T14:45:17.506Z"
   },
   {
    "duration": 104,
    "start_time": "2025-02-27T14:46:06.259Z"
   },
   {
    "duration": 42,
    "start_time": "2025-02-27T14:48:47.927Z"
   },
   {
    "duration": 38,
    "start_time": "2025-02-27T14:48:55.630Z"
   },
   {
    "duration": 38,
    "start_time": "2025-02-27T14:48:57.532Z"
   },
   {
    "duration": 80,
    "start_time": "2025-02-27T14:49:03.083Z"
   },
   {
    "duration": 120,
    "start_time": "2025-02-27T14:49:04.342Z"
   },
   {
    "duration": 62,
    "start_time": "2025-02-27T14:49:06.403Z"
   },
   {
    "duration": 7,
    "start_time": "2025-02-27T19:03:46.786Z"
   },
   {
    "duration": 3,
    "start_time": "2025-02-27T20:04:06.801Z"
   },
   {
    "duration": 11,
    "start_time": "2025-02-27T20:10:59.368Z"
   },
   {
    "duration": 2,
    "start_time": "2025-02-27T20:11:08.262Z"
   },
   {
    "duration": 12,
    "start_time": "2025-02-27T20:11:08.811Z"
   },
   {
    "duration": 5,
    "start_time": "2025-02-27T20:11:13.390Z"
   },
   {
    "duration": 5,
    "start_time": "2025-02-27T20:11:35.024Z"
   },
   {
    "duration": 4,
    "start_time": "2025-02-27T20:13:29.736Z"
   },
   {
    "duration": 5,
    "start_time": "2025-02-27T20:19:48.573Z"
   },
   {
    "duration": 6,
    "start_time": "2025-02-27T20:51:22.429Z"
   },
   {
    "duration": 3,
    "start_time": "2025-02-27T20:56:05.847Z"
   },
   {
    "duration": 6,
    "start_time": "2025-02-27T21:09:20.635Z"
   },
   {
    "duration": 5,
    "start_time": "2025-02-27T21:14:16.977Z"
   },
   {
    "duration": 6,
    "start_time": "2025-02-27T21:15:09.496Z"
   },
   {
    "duration": 13,
    "start_time": "2025-02-27T21:16:33.961Z"
   },
   {
    "duration": 6,
    "start_time": "2025-02-27T21:16:43.658Z"
   },
   {
    "duration": 14,
    "start_time": "2025-02-27T21:16:46.076Z"
   },
   {
    "duration": 6,
    "start_time": "2025-02-27T21:17:08.533Z"
   },
   {
    "duration": 14,
    "start_time": "2025-02-27T21:17:09.562Z"
   },
   {
    "duration": 6,
    "start_time": "2025-02-27T21:17:20.298Z"
   },
   {
    "duration": 16,
    "start_time": "2025-02-27T21:17:21.053Z"
   },
   {
    "duration": 6,
    "start_time": "2025-02-27T21:17:33.656Z"
   },
   {
    "duration": 813,
    "start_time": "2025-02-27T21:17:34.332Z"
   },
   {
    "duration": 812,
    "start_time": "2025-02-27T21:18:02.359Z"
   },
   {
    "duration": 820,
    "start_time": "2025-02-27T21:18:27.292Z"
   },
   {
    "duration": 5,
    "start_time": "2025-02-27T21:19:12.956Z"
   },
   {
    "duration": 836,
    "start_time": "2025-02-27T21:19:14.152Z"
   },
   {
    "duration": 819,
    "start_time": "2025-02-27T21:19:17.046Z"
   },
   {
    "duration": 796,
    "start_time": "2025-02-27T21:19:18.415Z"
   },
   {
    "duration": 3,
    "start_time": "2025-02-27T21:20:14.778Z"
   },
   {
    "duration": 5,
    "start_time": "2025-02-27T21:20:15.772Z"
   },
   {
    "duration": 902,
    "start_time": "2025-02-27T21:20:23.066Z"
   },
   {
    "duration": 807,
    "start_time": "2025-02-27T21:20:26.499Z"
   },
   {
    "duration": 854,
    "start_time": "2025-02-27T21:20:27.862Z"
   },
   {
    "duration": 6,
    "start_time": "2025-02-27T21:20:46.427Z"
   },
   {
    "duration": 825,
    "start_time": "2025-02-27T21:20:47.910Z"
   },
   {
    "duration": 825,
    "start_time": "2025-02-27T21:20:49.540Z"
   },
   {
    "duration": 819,
    "start_time": "2025-02-27T21:20:50.642Z"
   },
   {
    "duration": 4,
    "start_time": "2025-02-27T21:23:32.086Z"
   },
   {
    "duration": 6,
    "start_time": "2025-02-27T21:23:33.188Z"
   },
   {
    "duration": 894,
    "start_time": "2025-02-27T21:23:34.219Z"
   },
   {
    "duration": 883,
    "start_time": "2025-02-27T21:23:36.494Z"
   },
   {
    "duration": 868,
    "start_time": "2025-02-27T21:23:37.722Z"
   },
   {
    "duration": 5,
    "start_time": "2025-02-27T21:24:32.156Z"
   },
   {
    "duration": 888,
    "start_time": "2025-02-27T21:24:33.016Z"
   },
   {
    "duration": 860,
    "start_time": "2025-02-27T21:24:34.891Z"
   },
   {
    "duration": 847,
    "start_time": "2025-02-27T21:24:36.176Z"
   },
   {
    "duration": 6,
    "start_time": "2025-02-27T21:25:03.691Z"
   },
   {
    "duration": 841,
    "start_time": "2025-02-27T21:25:04.609Z"
   },
   {
    "duration": 895,
    "start_time": "2025-02-27T21:25:05.818Z"
   },
   {
    "duration": 886,
    "start_time": "2025-02-27T21:25:07.446Z"
   },
   {
    "duration": 6,
    "start_time": "2025-02-27T21:25:45.067Z"
   },
   {
    "duration": 854,
    "start_time": "2025-02-27T21:25:46.936Z"
   },
   {
    "duration": 841,
    "start_time": "2025-02-27T21:25:49.461Z"
   },
   {
    "duration": 862,
    "start_time": "2025-02-27T21:25:50.608Z"
   },
   {
    "duration": 6,
    "start_time": "2025-02-27T21:25:57.927Z"
   },
   {
    "duration": 883,
    "start_time": "2025-02-27T21:26:00.305Z"
   },
   {
    "duration": 888,
    "start_time": "2025-02-27T21:26:05.111Z"
   },
   {
    "duration": 6,
    "start_time": "2025-02-27T21:26:39.767Z"
   },
   {
    "duration": 5,
    "start_time": "2025-02-27T21:26:53.349Z"
   },
   {
    "duration": 884,
    "start_time": "2025-02-27T21:26:54.226Z"
   },
   {
    "duration": 899,
    "start_time": "2025-02-27T21:26:55.941Z"
   },
   {
    "duration": 891,
    "start_time": "2025-02-27T21:26:57.530Z"
   },
   {
    "duration": 6,
    "start_time": "2025-02-27T21:27:36.127Z"
   },
   {
    "duration": 866,
    "start_time": "2025-02-27T21:27:37.280Z"
   },
   {
    "duration": 848,
    "start_time": "2025-02-27T21:27:38.692Z"
   },
   {
    "duration": 852,
    "start_time": "2025-02-27T21:27:39.833Z"
   },
   {
    "duration": 6,
    "start_time": "2025-02-27T21:27:42.775Z"
   },
   {
    "duration": 889,
    "start_time": "2025-02-27T21:27:43.545Z"
   },
   {
    "duration": 898,
    "start_time": "2025-02-27T21:27:44.694Z"
   },
   {
    "duration": 862,
    "start_time": "2025-02-27T21:27:45.891Z"
   },
   {
    "duration": 6,
    "start_time": "2025-02-27T21:27:50.073Z"
   },
   {
    "duration": 900,
    "start_time": "2025-02-27T21:27:50.939Z"
   },
   {
    "duration": 872,
    "start_time": "2025-02-27T21:27:52.126Z"
   },
   {
    "duration": 904,
    "start_time": "2025-02-27T21:27:53.320Z"
   },
   {
    "duration": 5,
    "start_time": "2025-02-27T21:28:46.723Z"
   },
   {
    "duration": 869,
    "start_time": "2025-02-27T21:28:47.520Z"
   },
   {
    "duration": 6,
    "start_time": "2025-02-27T21:28:59.977Z"
   },
   {
    "duration": 5,
    "start_time": "2025-02-27T21:29:04.766Z"
   },
   {
    "duration": 6,
    "start_time": "2025-02-27T21:29:25.751Z"
   },
   {
    "duration": 851,
    "start_time": "2025-02-27T21:29:26.612Z"
   },
   {
    "duration": 889,
    "start_time": "2025-02-27T21:29:28.174Z"
   },
   {
    "duration": 889,
    "start_time": "2025-02-27T21:29:29.082Z"
   },
   {
    "duration": 6,
    "start_time": "2025-02-27T21:30:51.842Z"
   },
   {
    "duration": 911,
    "start_time": "2025-02-27T21:30:52.616Z"
   },
   {
    "duration": 855,
    "start_time": "2025-02-27T21:30:54.321Z"
   },
   {
    "duration": 5,
    "start_time": "2025-02-27T21:31:11.064Z"
   },
   {
    "duration": 882,
    "start_time": "2025-02-27T21:31:11.643Z"
   },
   {
    "duration": 898,
    "start_time": "2025-02-27T21:31:13.797Z"
   },
   {
    "duration": 926,
    "start_time": "2025-02-27T21:31:14.993Z"
   },
   {
    "duration": 5,
    "start_time": "2025-02-27T21:31:21.129Z"
   },
   {
    "duration": 881,
    "start_time": "2025-02-27T21:31:22.153Z"
   },
   {
    "duration": 917,
    "start_time": "2025-02-27T21:31:23.666Z"
   },
   {
    "duration": 888,
    "start_time": "2025-02-27T21:31:24.706Z"
   },
   {
    "duration": 5,
    "start_time": "2025-02-27T21:31:40.178Z"
   },
   {
    "duration": 894,
    "start_time": "2025-02-27T21:31:41.126Z"
   },
   {
    "duration": 887,
    "start_time": "2025-02-27T21:31:42.964Z"
   },
   {
    "duration": 852,
    "start_time": "2025-02-27T21:31:44.093Z"
   },
   {
    "duration": 5,
    "start_time": "2025-02-27T21:31:48.136Z"
   },
   {
    "duration": 871,
    "start_time": "2025-02-27T21:31:48.830Z"
   },
   {
    "duration": 856,
    "start_time": "2025-02-27T21:31:50.190Z"
   },
   {
    "duration": 914,
    "start_time": "2025-02-27T21:31:51.535Z"
   },
   {
    "duration": 6,
    "start_time": "2025-02-27T21:32:24.465Z"
   },
   {
    "duration": 904,
    "start_time": "2025-02-27T21:32:25.758Z"
   },
   {
    "duration": 880,
    "start_time": "2025-02-27T21:32:27.191Z"
   },
   {
    "duration": 873,
    "start_time": "2025-02-27T21:32:28.342Z"
   },
   {
    "duration": 6,
    "start_time": "2025-02-27T21:32:37.372Z"
   },
   {
    "duration": 930,
    "start_time": "2025-02-27T21:32:38.513Z"
   },
   {
    "duration": 880,
    "start_time": "2025-02-27T21:32:39.706Z"
   },
   {
    "duration": 892,
    "start_time": "2025-02-27T21:32:40.588Z"
   },
   {
    "duration": 5,
    "start_time": "2025-02-27T21:32:45.284Z"
   },
   {
    "duration": 911,
    "start_time": "2025-02-27T21:32:45.962Z"
   },
   {
    "duration": 872,
    "start_time": "2025-02-27T21:32:46.948Z"
   },
   {
    "duration": 860,
    "start_time": "2025-02-27T21:32:47.897Z"
   },
   {
    "duration": 5,
    "start_time": "2025-02-27T21:32:54.874Z"
   },
   {
    "duration": 858,
    "start_time": "2025-02-27T21:32:55.232Z"
   },
   {
    "duration": 865,
    "start_time": "2025-02-27T21:32:56.155Z"
   },
   {
    "duration": 844,
    "start_time": "2025-02-27T21:32:57.022Z"
   },
   {
    "duration": 851,
    "start_time": "2025-02-27T21:33:42.621Z"
   },
   {
    "duration": 877,
    "start_time": "2025-02-27T21:33:56.798Z"
   },
   {
    "duration": 866,
    "start_time": "2025-02-27T21:33:57.677Z"
   },
   {
    "duration": 5,
    "start_time": "2025-02-27T22:03:53.066Z"
   },
   {
    "duration": 911,
    "start_time": "2025-02-27T22:03:53.320Z"
   },
   {
    "duration": 874,
    "start_time": "2025-02-27T22:03:54.723Z"
   },
   {
    "duration": 876,
    "start_time": "2025-02-27T22:03:55.939Z"
   },
   {
    "duration": 2392,
    "start_time": "2025-02-27T22:11:33.997Z"
   },
   {
    "duration": 3011,
    "start_time": "2025-02-27T22:11:36.391Z"
   },
   {
    "duration": 1591,
    "start_time": "2025-02-27T22:11:39.404Z"
   },
   {
    "duration": 2,
    "start_time": "2025-02-27T22:11:40.997Z"
   },
   {
    "duration": 59,
    "start_time": "2025-02-27T22:11:41.001Z"
   },
   {
    "duration": 6,
    "start_time": "2025-02-27T22:11:41.062Z"
   },
   {
    "duration": 16,
    "start_time": "2025-02-27T22:11:41.070Z"
   },
   {
    "duration": 428,
    "start_time": "2025-02-27T22:11:41.088Z"
   },
   {
    "duration": 199,
    "start_time": "2025-02-27T22:11:41.517Z"
   },
   {
    "duration": 178,
    "start_time": "2025-02-27T22:11:41.717Z"
   },
   {
    "duration": 2867,
    "start_time": "2025-02-27T22:11:41.897Z"
   },
   {
    "duration": 20,
    "start_time": "2025-02-27T22:11:44.766Z"
   },
   {
    "duration": 5,
    "start_time": "2025-02-27T22:11:44.787Z"
   },
   {
    "duration": 74,
    "start_time": "2025-02-27T22:11:44.794Z"
   },
   {
    "duration": 195,
    "start_time": "2025-02-27T22:11:44.870Z"
   },
   {
    "duration": 103,
    "start_time": "2025-02-27T22:11:45.160Z"
   },
   {
    "duration": 97,
    "start_time": "2025-02-27T22:11:45.265Z"
   },
   {
    "duration": 54,
    "start_time": "2025-02-27T22:11:45.363Z"
   },
   {
    "duration": 15,
    "start_time": "2025-02-27T22:11:45.419Z"
   },
   {
    "duration": 7,
    "start_time": "2025-02-27T22:11:45.436Z"
   },
   {
    "duration": 21,
    "start_time": "2025-02-27T22:11:45.445Z"
   },
   {
    "duration": 906,
    "start_time": "2025-02-27T22:11:45.467Z"
   },
   {
    "duration": 877,
    "start_time": "2025-02-27T22:11:46.375Z"
   },
   {
    "duration": 881,
    "start_time": "2025-02-27T22:11:47.254Z"
   },
   {
    "duration": 52,
    "start_time": "2025-02-28T14:48:05.897Z"
   },
   {
    "duration": 9571,
    "start_time": "2025-02-28T14:48:11.043Z"
   },
   {
    "duration": 6917,
    "start_time": "2025-02-28T14:48:20.617Z"
   },
   {
    "duration": 2010,
    "start_time": "2025-02-28T14:48:27.538Z"
   },
   {
    "duration": 3,
    "start_time": "2025-02-28T14:48:29.550Z"
   },
   {
    "duration": 10,
    "start_time": "2025-02-28T14:48:29.555Z"
   },
   {
    "duration": 8,
    "start_time": "2025-02-28T14:48:29.567Z"
   },
   {
    "duration": 6,
    "start_time": "2025-02-28T14:48:29.577Z"
   },
   {
    "duration": 476,
    "start_time": "2025-02-28T14:48:29.585Z"
   },
   {
    "duration": 200,
    "start_time": "2025-02-28T14:48:30.063Z"
   },
   {
    "duration": 196,
    "start_time": "2025-02-28T14:48:30.265Z"
   },
   {
    "duration": 3051,
    "start_time": "2025-02-28T14:48:30.463Z"
   },
   {
    "duration": 19,
    "start_time": "2025-02-28T14:48:33.516Z"
   },
   {
    "duration": 819,
    "start_time": "2025-02-28T14:48:33.538Z"
   },
   {
    "duration": 5,
    "start_time": "2025-02-28T14:48:34.361Z"
   },
   {
    "duration": 95,
    "start_time": "2025-02-28T14:48:34.368Z"
   },
   {
    "duration": 195,
    "start_time": "2025-02-28T14:48:34.468Z"
   },
   {
    "duration": 197,
    "start_time": "2025-02-28T14:48:34.666Z"
   },
   {
    "duration": 100,
    "start_time": "2025-02-28T14:48:34.870Z"
   },
   {
    "duration": 14,
    "start_time": "2025-02-28T14:48:34.973Z"
   },
   {
    "duration": 21,
    "start_time": "2025-02-28T14:48:34.989Z"
   },
   {
    "duration": 12,
    "start_time": "2025-02-28T14:48:35.011Z"
   },
   {
    "duration": 6,
    "start_time": "2025-02-28T14:48:35.025Z"
   },
   {
    "duration": 999,
    "start_time": "2025-02-28T14:48:35.033Z"
   },
   {
    "duration": 955,
    "start_time": "2025-02-28T14:48:36.033Z"
   },
   {
    "duration": 971,
    "start_time": "2025-02-28T14:48:36.990Z"
   },
   {
    "duration": 881,
    "start_time": "2025-02-28T14:51:16.186Z"
   },
   {
    "duration": 898,
    "start_time": "2025-02-28T14:51:44.521Z"
   },
   {
    "duration": 888,
    "start_time": "2025-02-28T14:51:57.641Z"
   },
   {
    "duration": 759,
    "start_time": "2025-02-28T14:52:32.729Z"
   },
   {
    "duration": 820,
    "start_time": "2025-02-28T14:52:39.355Z"
   },
   {
    "duration": 121,
    "start_time": "2025-02-28T14:53:14.330Z"
   },
   {
    "duration": 700,
    "start_time": "2025-02-28T14:53:21.379Z"
   },
   {
    "duration": 748,
    "start_time": "2025-02-28T14:53:34.501Z"
   },
   {
    "duration": 632,
    "start_time": "2025-02-28T14:53:43.445Z"
   },
   {
    "duration": 593,
    "start_time": "2025-02-28T14:53:50.698Z"
   },
   {
    "duration": 838,
    "start_time": "2025-02-28T14:53:58.211Z"
   },
   {
    "duration": 819,
    "start_time": "2025-02-28T14:54:47.108Z"
   },
   {
    "duration": 891,
    "start_time": "2025-02-28T14:57:24.312Z"
   },
   {
    "duration": 1527,
    "start_time": "2025-02-28T14:57:31.952Z"
   },
   {
    "duration": 2776,
    "start_time": "2025-02-28T14:57:43.696Z"
   },
   {
    "duration": 3055,
    "start_time": "2025-02-28T14:57:53.285Z"
   },
   {
    "duration": 2733,
    "start_time": "2025-02-28T14:58:03.972Z"
   },
   {
    "duration": 7,
    "start_time": "2025-02-28T15:02:32.868Z"
   },
   {
    "duration": 7857,
    "start_time": "2025-02-28T15:02:41.304Z"
   },
   {
    "duration": 6,
    "start_time": "2025-02-28T15:04:17.734Z"
   },
   {
    "duration": 9562,
    "start_time": "2025-02-28T15:04:21.101Z"
   },
   {
    "duration": 6,
    "start_time": "2025-02-28T15:05:20.501Z"
   },
   {
    "duration": 8775,
    "start_time": "2025-02-28T15:05:24.501Z"
   },
   {
    "duration": 6,
    "start_time": "2025-02-28T15:07:02.020Z"
   },
   {
    "duration": 461,
    "start_time": "2025-02-28T15:07:06.594Z"
   },
   {
    "duration": 6,
    "start_time": "2025-02-28T15:07:15.148Z"
   },
   {
    "duration": 6,
    "start_time": "2025-02-28T15:08:00.477Z"
   },
   {
    "duration": 8925,
    "start_time": "2025-02-28T15:08:04.641Z"
   },
   {
    "duration": 6,
    "start_time": "2025-02-28T15:08:58.644Z"
   },
   {
    "duration": 3472,
    "start_time": "2025-02-28T15:09:01.808Z"
   },
   {
    "duration": 7,
    "start_time": "2025-02-28T15:10:12.845Z"
   },
   {
    "duration": 4805,
    "start_time": "2025-02-28T15:10:16.878Z"
   },
   {
    "duration": 5,
    "start_time": "2025-02-28T15:17:07.293Z"
   },
   {
    "duration": 26,
    "start_time": "2025-02-28T15:17:25.625Z"
   },
   {
    "duration": 6,
    "start_time": "2025-02-28T15:17:55.424Z"
   },
   {
    "duration": 1112,
    "start_time": "2025-02-28T15:17:55.807Z"
   },
   {
    "duration": 5,
    "start_time": "2025-02-28T15:18:28.090Z"
   },
   {
    "duration": 1149,
    "start_time": "2025-02-28T15:18:28.675Z"
   },
   {
    "duration": 110,
    "start_time": "2025-02-28T15:22:26.457Z"
   },
   {
    "duration": 83,
    "start_time": "2025-02-28T15:22:30.179Z"
   },
   {
    "duration": 192,
    "start_time": "2025-02-28T15:22:33.174Z"
   },
   {
    "duration": 127,
    "start_time": "2025-02-28T15:23:25.539Z"
   },
   {
    "duration": 101,
    "start_time": "2025-02-28T15:23:38.162Z"
   },
   {
    "duration": 46,
    "start_time": "2025-02-28T15:23:43.730Z"
   },
   {
    "duration": 87,
    "start_time": "2025-02-28T15:23:46.476Z"
   },
   {
    "duration": 3,
    "start_time": "2025-02-28T15:26:10.554Z"
   },
   {
    "duration": 77,
    "start_time": "2025-02-28T15:26:20.818Z"
   },
   {
    "duration": 5,
    "start_time": "2025-02-28T15:26:26.577Z"
   },
   {
    "duration": 6,
    "start_time": "2025-02-28T15:26:28.236Z"
   },
   {
    "duration": 5,
    "start_time": "2025-02-28T15:27:56.149Z"
   },
   {
    "duration": 4,
    "start_time": "2025-02-28T15:30:54.297Z"
   },
   {
    "duration": 6,
    "start_time": "2025-02-28T15:30:55.586Z"
   },
   {
    "duration": 6,
    "start_time": "2025-02-28T15:34:05.454Z"
   },
   {
    "duration": 1003,
    "start_time": "2025-02-28T15:34:07.140Z"
   },
   {
    "duration": 10,
    "start_time": "2025-02-28T15:35:55.973Z"
   },
   {
    "duration": 1029,
    "start_time": "2025-02-28T15:35:57.591Z"
   },
   {
    "duration": 76,
    "start_time": "2025-02-28T15:36:09.211Z"
   },
   {
    "duration": 989,
    "start_time": "2025-02-28T15:36:12.570Z"
   },
   {
    "duration": 1044,
    "start_time": "2025-02-28T15:36:13.561Z"
   },
   {
    "duration": 1016,
    "start_time": "2025-02-28T15:36:14.607Z"
   },
   {
    "duration": 75,
    "start_time": "2025-02-28T15:41:22.973Z"
   },
   {
    "duration": 6,
    "start_time": "2025-02-28T15:41:33.990Z"
   },
   {
    "duration": 14,
    "start_time": "2025-02-28T15:41:40.887Z"
   },
   {
    "duration": 6,
    "start_time": "2025-02-28T15:41:53.808Z"
   },
   {
    "duration": 6,
    "start_time": "2025-02-28T15:42:38.746Z"
   },
   {
    "duration": 152,
    "start_time": "2025-02-28T15:42:39.818Z"
   },
   {
    "duration": 61,
    "start_time": "2025-02-28T15:42:48.607Z"
   },
   {
    "duration": 199,
    "start_time": "2025-02-28T15:42:55.363Z"
   },
   {
    "duration": 36,
    "start_time": "2025-02-28T15:42:58.434Z"
   },
   {
    "duration": 46,
    "start_time": "2025-03-01T13:46:43.105Z"
   },
   {
    "duration": 7896,
    "start_time": "2025-03-01T13:47:04.876Z"
   },
   {
    "duration": 8794,
    "start_time": "2025-03-01T13:47:12.774Z"
   },
   {
    "duration": 1713,
    "start_time": "2025-03-01T13:47:21.571Z"
   },
   {
    "duration": 2,
    "start_time": "2025-03-01T13:47:23.286Z"
   },
   {
    "duration": 15,
    "start_time": "2025-03-01T13:47:23.290Z"
   },
   {
    "duration": 37,
    "start_time": "2025-03-01T13:47:23.307Z"
   },
   {
    "duration": 18,
    "start_time": "2025-03-01T13:47:23.346Z"
   },
   {
    "duration": 723,
    "start_time": "2025-03-01T13:47:23.366Z"
   },
   {
    "duration": 308,
    "start_time": "2025-03-01T13:47:24.091Z"
   },
   {
    "duration": 298,
    "start_time": "2025-03-01T13:47:24.400Z"
   },
   {
    "duration": 2368,
    "start_time": "2025-03-01T13:53:04.662Z"
   },
   {
    "duration": 3020,
    "start_time": "2025-03-01T13:53:07.032Z"
   },
   {
    "duration": 1616,
    "start_time": "2025-03-01T13:53:10.054Z"
   },
   {
    "duration": 3,
    "start_time": "2025-03-01T13:53:11.671Z"
   },
   {
    "duration": 7,
    "start_time": "2025-03-01T13:53:11.676Z"
   },
   {
    "duration": 9,
    "start_time": "2025-03-01T13:53:11.684Z"
   },
   {
    "duration": 7,
    "start_time": "2025-03-01T13:53:11.694Z"
   },
   {
    "duration": 9,
    "start_time": "2025-03-01T13:53:11.702Z"
   },
   {
    "duration": 394,
    "start_time": "2025-03-01T13:53:11.713Z"
   },
   {
    "duration": 173,
    "start_time": "2025-03-01T13:53:12.108Z"
   },
   {
    "duration": 148,
    "start_time": "2025-03-01T13:53:12.282Z"
   },
   {
    "duration": 15,
    "start_time": "2025-03-01T13:53:12.432Z"
   },
   {
    "duration": 4077,
    "start_time": "2025-03-01T13:53:12.449Z"
   },
   {
    "duration": 5,
    "start_time": "2025-03-01T13:53:16.529Z"
   },
   {
    "duration": 989,
    "start_time": "2025-03-01T13:53:16.536Z"
   },
   {
    "duration": 5,
    "start_time": "2025-03-01T13:53:17.528Z"
   },
   {
    "duration": 127,
    "start_time": "2025-03-01T13:53:17.535Z"
   },
   {
    "duration": 200,
    "start_time": "2025-03-01T13:53:17.664Z"
   },
   {
    "duration": 192,
    "start_time": "2025-03-01T13:53:17.871Z"
   },
   {
    "duration": 92,
    "start_time": "2025-03-01T13:53:18.071Z"
   },
   {
    "duration": 115,
    "start_time": "2025-03-01T13:53:18.165Z"
   },
   {
    "duration": 0,
    "start_time": "2025-03-01T13:53:18.282Z"
   },
   {
    "duration": 0,
    "start_time": "2025-03-01T13:53:18.283Z"
   },
   {
    "duration": 0,
    "start_time": "2025-03-01T13:53:18.284Z"
   },
   {
    "duration": 0,
    "start_time": "2025-03-01T13:53:18.285Z"
   },
   {
    "duration": 0,
    "start_time": "2025-03-01T13:53:18.287Z"
   },
   {
    "duration": 0,
    "start_time": "2025-03-01T13:53:18.288Z"
   },
   {
    "duration": 5,
    "start_time": "2025-03-01T13:54:06.200Z"
   },
   {
    "duration": 6,
    "start_time": "2025-03-01T13:54:16.166Z"
   },
   {
    "duration": 5,
    "start_time": "2025-03-01T13:54:17.592Z"
   },
   {
    "duration": 6,
    "start_time": "2025-03-01T13:54:23.546Z"
   },
   {
    "duration": 33,
    "start_time": "2025-03-01T14:01:26.632Z"
   },
   {
    "duration": 76,
    "start_time": "2025-03-01T14:01:30.289Z"
   },
   {
    "duration": 109,
    "start_time": "2025-03-01T14:01:32.154Z"
   },
   {
    "duration": 10101,
    "start_time": "2025-03-02T11:04:20.836Z"
   },
   {
    "duration": 3047,
    "start_time": "2025-03-02T11:04:30.939Z"
   },
   {
    "duration": 1721,
    "start_time": "2025-03-02T11:04:33.989Z"
   },
   {
    "duration": 2,
    "start_time": "2025-03-02T11:04:35.712Z"
   },
   {
    "duration": 73,
    "start_time": "2025-03-02T11:04:35.715Z"
   },
   {
    "duration": 32,
    "start_time": "2025-03-02T11:04:35.790Z"
   },
   {
    "duration": 20,
    "start_time": "2025-03-02T11:04:35.823Z"
   },
   {
    "duration": 16,
    "start_time": "2025-03-02T11:04:35.845Z"
   },
   {
    "duration": 429,
    "start_time": "2025-03-02T11:04:35.863Z"
   },
   {
    "duration": 170,
    "start_time": "2025-03-02T11:04:36.294Z"
   },
   {
    "duration": 162,
    "start_time": "2025-03-02T11:04:36.466Z"
   },
   {
    "duration": 17,
    "start_time": "2025-03-02T11:04:36.630Z"
   },
   {
    "duration": 4133,
    "start_time": "2025-03-02T11:04:36.649Z"
   },
   {
    "duration": 3,
    "start_time": "2025-03-02T11:04:40.785Z"
   },
   {
    "duration": 1059,
    "start_time": "2025-03-02T11:04:40.789Z"
   },
   {
    "duration": 5,
    "start_time": "2025-03-02T11:04:41.849Z"
   },
   {
    "duration": 61,
    "start_time": "2025-03-02T11:04:41.855Z"
   },
   {
    "duration": 192,
    "start_time": "2025-03-02T11:04:41.917Z"
   },
   {
    "duration": 208,
    "start_time": "2025-03-02T11:04:42.112Z"
   },
   {
    "duration": 3,
    "start_time": "2025-03-02T11:04:42.410Z"
   },
   {
    "duration": 8,
    "start_time": "2025-03-02T11:04:42.414Z"
   },
   {
    "duration": 6,
    "start_time": "2025-03-02T11:04:42.423Z"
   },
   {
    "duration": 4,
    "start_time": "2025-03-02T11:04:42.430Z"
   },
   {
    "duration": 8,
    "start_time": "2025-03-02T11:04:42.436Z"
   },
   {
    "duration": 138,
    "start_time": "2025-03-02T11:04:42.445Z"
   },
   {
    "duration": 0,
    "start_time": "2025-03-02T11:04:42.585Z"
   },
   {
    "duration": 0,
    "start_time": "2025-03-02T11:04:42.586Z"
   },
   {
    "duration": 6,
    "start_time": "2025-03-02T11:05:20.739Z"
   },
   {
    "duration": 15,
    "start_time": "2025-03-02T11:05:21.979Z"
   },
   {
    "duration": 5,
    "start_time": "2025-03-02T11:05:39.685Z"
   },
   {
    "duration": 895,
    "start_time": "2025-03-02T11:05:40.338Z"
   },
   {
    "duration": 868,
    "start_time": "2025-03-02T11:05:41.235Z"
   },
   {
    "duration": 900,
    "start_time": "2025-03-02T11:05:42.109Z"
   }
  ],
  "kernelspec": {
   "display_name": "Python 3 (ipykernel)",
   "language": "python",
   "name": "python3"
  },
  "language_info": {
   "codemirror_mode": {
    "name": "ipython",
    "version": 3
   },
   "file_extension": ".py",
   "mimetype": "text/x-python",
   "name": "python",
   "nbconvert_exporter": "python",
   "pygments_lexer": "ipython3",
   "version": "3.12.5"
  },
  "toc": {
   "base_numbering": 1,
   "nav_menu": {},
   "number_sections": true,
   "sideBar": true,
   "skip_h1_title": true,
   "title_cell": "Table of Contents",
   "title_sidebar": "Contents",
   "toc_cell": false,
   "toc_position": {
    "height": "calc(100% - 180px)",
    "left": "10px",
    "top": "150px",
    "width": "307.188px"
   },
   "toc_section_display": true,
   "toc_window_display": false
  }
 },
 "nbformat": 4,
 "nbformat_minor": 4
}
